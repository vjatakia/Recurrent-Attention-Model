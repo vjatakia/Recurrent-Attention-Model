{
 "cells": [
  {
   "cell_type": "code",
   "execution_count": 1,
   "metadata": {},
   "outputs": [
    {
     "name": "stderr",
     "output_type": "stream",
     "text": [
      "Using TensorFlow backend.\n"
     ]
    }
   ],
   "source": [
    "import keras\n",
    "from keras.models import Sequential\n",
    "from keras.layers import Dense, Dropout, Activation, Conv2D, Flatten\n",
    "from keras.optimizers import SGD\n",
    "from keras import backend as K\n",
    "import numpy as np\n",
    "import matplotlib.pyplot as plt\n",
    "import tensorflow as tf\n",
    "from tensorflow.examples.tutorials.mnist import input_data\n",
    "\n",
    "import tensorflow as tf\n",
    "from keras.backend.tensorflow_backend import set_session\n",
    "gpu_options = tf.GPUOptions(allow_growth=True)\n",
    "config=tf.ConfigProto(gpu_options=gpu_options)\n",
    "\n",
    "config.gpu_options.visible_device_list = \"0\"\n",
    "set_session(tf.Session(config=config))"
   ]
  },
  {
   "cell_type": "code",
   "execution_count": 4,
   "metadata": {},
   "outputs": [
    {
     "name": "stdout",
     "output_type": "stream",
     "text": [
      "Extracting /tmp/data/train-images-idx3-ubyte.gz\n",
      "Extracting /tmp/data/train-labels-idx1-ubyte.gz\n",
      "Extracting /tmp/data/t10k-images-idx3-ubyte.gz\n",
      "Extracting /tmp/data/t10k-labels-idx1-ubyte.gz\n"
     ]
    }
   ],
   "source": [
    "mnist = input_data.read_data_sets(\"/tmp/data/\", one_hot = True)"
   ]
  },
  {
   "cell_type": "code",
   "execution_count": 56,
   "metadata": {
    "collapsed": true
   },
   "outputs": [],
   "source": [
    "x_train = np.asarray(mnist.train.images)\n",
    "x_train = np.reshape(x_train,(-1, 28,28,1))\n",
    "y_train = np.asarray(mnist.train.labels)\n",
    "x_test = np.asarray(mnist.test.images)\n",
    "x_test = np.reshape(x_test,(-1, 28,28,1))\n",
    "y_test = np.asarray(mnist.test.labels)"
   ]
  },
  {
   "cell_type": "code",
   "execution_count": 53,
   "metadata": {
    "collapsed": true
   },
   "outputs": [],
   "source": [
    "input_shape = (28, 28, 1)\n",
    "num_classes = 10"
   ]
  },
  {
   "cell_type": "code",
   "execution_count": 57,
   "metadata": {
    "collapsed": true
   },
   "outputs": [],
   "source": [
    "model = Sequential()\n",
    "model.add(Conv2D(8, kernel_size=(10, 10), strides= (5,5), activation='relu', input_shape = input_shape ))\n",
    "model.add(Flatten())\n",
    "model.add(Dense(256, activation='relu'))\n",
    "model.add(Dense(num_classes, activation='softmax'))\n",
    "\n",
    "model.compile(loss=keras.losses.categorical_crossentropy,\n",
    "              optimizer=keras.optimizers.SGD(lr=0.01, momentum = 0.9),\n",
    "              metrics=['accuracy'])"
   ]
  },
  {
   "cell_type": "code",
   "execution_count": 58,
   "metadata": {},
   "outputs": [
    {
     "name": "stdout",
     "output_type": "stream",
     "text": [
      "Epoch 1/10\n",
      "55000/55000 [==============================] - 8s 152us/step - loss: 0.2608 - acc: 0.9195\n",
      "Epoch 2/10\n",
      "55000/55000 [==============================] - 7s 119us/step - loss: 0.1069 - acc: 0.9669\n",
      "Epoch 3/10\n",
      "55000/55000 [==============================] - 7s 119us/step - loss: 0.0785 - acc: 0.9751\n",
      "Epoch 4/10\n",
      "55000/55000 [==============================] - 7s 119us/step - loss: 0.0609 - acc: 0.9801\n",
      "Epoch 5/10\n",
      "55000/55000 [==============================] - 7s 121us/step - loss: 0.0518 - acc: 0.9832\n",
      "Epoch 6/10\n",
      "55000/55000 [==============================] - 7s 122us/step - loss: 0.0420 - acc: 0.9864\n",
      "Epoch 7/10\n",
      "55000/55000 [==============================] - 7s 123us/step - loss: 0.0364 - acc: 0.9880\n",
      "Epoch 8/10\n",
      "55000/55000 [==============================] - 7s 123us/step - loss: 0.0320 - acc: 0.9897\n",
      "Epoch 9/10\n",
      "55000/55000 [==============================] - 7s 122us/step - loss: 0.0261 - acc: 0.9912\n",
      "Epoch 10/10\n",
      "55000/55000 [==============================] - 7s 123us/step - loss: 0.0222 - acc: 0.9926\n"
     ]
    },
    {
     "data": {
      "text/plain": [
       "<keras.callbacks.History at 0x16e49121048>"
      ]
     },
     "execution_count": 58,
     "metadata": {},
     "output_type": "execute_result"
    }
   ],
   "source": [
    "model.fit(x_train, y_train,\n",
    "          epochs= 10,\n",
    "          batch_size=20,\n",
    "          verbose = 1)"
   ]
  },
  {
   "cell_type": "code",
   "execution_count": 59,
   "metadata": {},
   "outputs": [
    {
     "name": "stdout",
     "output_type": "stream",
     "text": [
      "10000/10000 [==============================] - 1s 53us/step\n",
      "Testing Accuracy:  0.977499994993\n"
     ]
    }
   ],
   "source": [
    "score = model.evaluate(x_test, y_test, batch_size= 20)\n",
    "print(\"Testing Accuracy: \", score[1])"
   ]
  },
  {
   "cell_type": "code",
   "execution_count": 2,
   "metadata": {},
   "outputs": [
    {
     "data": {
      "text/plain": [
       "<matplotlib.image.AxesImage at 0x7f283c2d17b8>"
      ]
     },
     "execution_count": 2,
     "metadata": {},
     "output_type": "execute_result"
    },
    {
     "data": {
      "image/png": "[encoded data removed]",
      "text/plain": [
       "<matplotlib.figure.Figure at 0x7f283c2d17f0>"
      ]
     },
     "metadata": {},
     "output_type": "display_data"
    }
   ],
   "source": [
    "data_path = 'mnist_cluttered_train_data.tfrecords'  # address to save the hdf5 file\n",
    "gpu_options = tf.GPUOptions(allow_growth=True)\n",
    "with tf.Session(config=tf.ConfigProto(gpu_options=gpu_options)) as sess:\n",
    "    feature = {'train/image': tf.FixedLenFeature([], tf.string),\n",
    "               'train/label': tf.FixedLenFeature([], tf.int64)}\n",
    "   \n",
    "    # Create a list of filenames and pass it to a queue\n",
    "    filename_queue = tf.train.string_input_producer([data_path], num_epochs=1)\n",
    "    # Define a reader and read the next record\n",
    "    reader = tf.TFRecordReader()\n",
    "    _, serialized_example = reader.read(filename_queue)\n",
    "    # Decode the record read by the reader\n",
    "    features = tf.parse_single_example(serialized_example, features=feature)\n",
    "    # Convert the image data from string back to the numbers\n",
    "    image = tf.decode_raw(features['train/image'], tf.float32)\n",
    "    \n",
    "    # Cast label data into int32\n",
    "    label = tf.cast(features['train/label'], tf.int32)\n",
    "    # Reshape image data into the original shape\n",
    "    image = tf.reshape(image, (60,60))\n",
    "    \n",
    "    # Any preprocessing here ...\n",
    "    \n",
    "    # Creates batches by randomly shuffling tensors\n",
    "\n",
    "    train_images = []\n",
    "    train_labels = []\n",
    "    # Initialize all global and local variables\n",
    "    init_op = tf.group(tf.global_variables_initializer(), tf.local_variables_initializer())\n",
    "    sess.run(init_op)\n",
    "    # Create a coordinator and run all QueueRunner objects\n",
    "    coord = tf.train.Coordinator()\n",
    "    threads = tf.train.start_queue_runners(coord=coord)\n",
    "    for batch_index in range(55000):\n",
    "        img, lbl = sess.run([image, label])\n",
    "        train_images.append(img)\n",
    "        train_labels.append(lbl)\n",
    "    # Stop the threads\n",
    "    coord.request_stop()\n",
    "    \n",
    "    # Wait for threads to stop\n",
    "    coord.join(threads)\n",
    "    sess.close()\n",
    "\n",
    "plt.imshow(train_images[0])\n",
    "\n",
    "data_path = 'mnist_cluttered_test_data.tfrecords'  # address to save the hdf5 file\n",
    "gpu_options = tf.GPUOptions(allow_growth=True)\n",
    "with tf.Session(config=tf.ConfigProto(gpu_options=gpu_options)) as sess:\n",
    "    feature = {'test/image': tf.FixedLenFeature([], tf.string),\n",
    "               'test/label': tf.FixedLenFeature([], tf.int64)}\n",
    "   \n",
    "    # Create a list of filenames and pass it to a queue\n",
    "    filename_queue = tf.train.string_input_producer([data_path], num_epochs=1)\n",
    "    # Define a reader and read the next record\n",
    "    reader = tf.TFRecordReader()\n",
    "    _, serialized_example = reader.read(filename_queue)\n",
    "    # Decode the record read by the reader\n",
    "    features = tf.parse_single_example(serialized_example, features=feature)\n",
    "    # Convert the image data from string back to the numbers\n",
    "    image = tf.decode_raw(features['test/image'], tf.float32)\n",
    "    \n",
    "    # Cast label data into int32\n",
    "    label = tf.cast(features['test/label'], tf.int32)\n",
    "    # Reshape image data into the original shape\n",
    "    image = tf.reshape(image, (60,60))\n",
    "    \n",
    "    test_images = []\n",
    "    test_labels = []\n",
    "# Initialize all global and local variables\n",
    "    init_op = tf.group(tf.global_variables_initializer(), tf.local_variables_initializer())\n",
    "    sess.run(init_op)\n",
    "    # Create a coordinator and run all QueueRunner objects\n",
    "    coord = tf.train.Coordinator()\n",
    "    threads = tf.train.start_queue_runners(coord=coord)\n",
    "    for batch_index in range(10000):\n",
    "        img, lbl = sess.run([image, label])\n",
    "        test_images.append(img)\n",
    "        test_labels.append(lbl)\n",
    "    # Stop the threads\n",
    "    coord.request_stop()\n",
    "    \n",
    "    # Wait for threads to stop\n",
    "    coord.join(threads)\n",
    "    sess.close()\n",
    "\n",
    "plt.imshow(test_images[0])"
   ]
  },
  {
   "cell_type": "code",
   "execution_count": 3,
   "metadata": {},
   "outputs": [],
   "source": [
    "\n",
    "onehot_train_labels = np.zeros((55000, 10))\n",
    "onehot_train_labels[np.arange(55000), train_labels] = 1\n",
    "\n",
    "\n",
    "onehot_test_labels = np.zeros((10000, 10))\n",
    "onehot_test_labels[np.arange(10000), test_labels] = 1"
   ]
  },
  {
   "cell_type": "code",
   "execution_count": 4,
   "metadata": {},
   "outputs": [],
   "source": [
    "x_train = np.asarray(train_images)\n",
    "x_train = np.reshape(x_train,(-1, 60, 60,1))\n",
    "y_train = np.asarray(train_labels)\n",
    "x_test = np.asarray(test_images)\n",
    "x_test = np.reshape(x_test,(-1, 60,60,1))\n",
    "y_test = np.asarray(test_labels)\n",
    "\n",
    "input_shape = (60, 60, 1)\n",
    "num_classes = 10"
   ]
  },
  {
   "cell_type": "code",
   "execution_count": null,
   "metadata": {},
   "outputs": [],
   "source": []
  },
  {
   "cell_type": "code",
   "execution_count": 16,
   "metadata": {},
   "outputs": [],
   "source": [
    "model = Sequential()\n",
    "model.add(Conv2D(8, kernel_size=(10, 10), strides= (5,5), activation='relu', input_shape = input_shape ))\n",
    "model.add(Flatten())\n",
    "model.add(Dense(256, activation='relu'))\n",
    "model.add(Dense(num_classes, activation='softmax'))\n",
    "\n",
    "model.compile(loss=keras.losses.categorical_crossentropy,\n",
    "              optimizer=keras.optimizers.SGD(lr=0.01, momentum = 0.9),\n",
    "              metrics=['accuracy'])"
   ]
  },
  {
   "cell_type": "code",
   "execution_count": 17,
   "metadata": {},
   "outputs": [
    {
     "name": "stdout",
     "output_type": "stream",
     "text": [
      "Epoch 1/25\n",
      "55000/55000 [==============================] - 9s 159us/step - loss: 2.1883 - acc: 0.1833\n",
      "Epoch 2/25\n",
      "55000/55000 [==============================] - 9s 158us/step - loss: 1.8077 - acc: 0.3484\n",
      "Epoch 3/25\n",
      "55000/55000 [==============================] - 9s 162us/step - loss: 1.3824 - acc: 0.5130\n",
      "Epoch 4/25\n",
      "55000/55000 [==============================] - 9s 160us/step - loss: 1.1010 - acc: 0.6169\n",
      "Epoch 5/25\n",
      "55000/55000 [==============================] - 9s 156us/step - loss: 0.8964 - acc: 0.6877\n",
      "Epoch 6/25\n",
      "55000/55000 [==============================] - 9s 155us/step - loss: 0.7316 - acc: 0.7469\n",
      "Epoch 7/25\n",
      "55000/55000 [==============================] - 8s 153us/step - loss: 0.5955 - acc: 0.7947\n",
      "Epoch 8/25\n",
      "55000/55000 [==============================] - 8s 152us/step - loss: 0.4954 - acc: 0.8281\n",
      "Epoch 9/25\n",
      "55000/55000 [==============================] - 8s 153us/step - loss: 0.4154 - acc: 0.8566\n",
      "Epoch 10/25\n",
      "55000/55000 [==============================] - 8s 153us/step - loss: 0.3695 - acc: 0.8723\n",
      "Epoch 11/25\n",
      "55000/55000 [==============================] - 8s 153us/step - loss: 0.3187 - acc: 0.8905\n",
      "Epoch 12/25\n",
      "55000/55000 [==============================] - 8s 151us/step - loss: 0.2944 - acc: 0.8997\n",
      "Epoch 13/25\n",
      "55000/55000 [==============================] - 8s 151us/step - loss: 0.2667 - acc: 0.9087\n",
      "Epoch 14/25\n",
      "55000/55000 [==============================] - 8s 152us/step - loss: 0.2551 - acc: 0.9149\n",
      "Epoch 15/25\n",
      "55000/55000 [==============================] - 8s 152us/step - loss: 0.2257 - acc: 0.9247\n",
      "Epoch 16/25\n",
      "55000/55000 [==============================] - 9s 165us/step - loss: 0.2133 - acc: 0.9286\n",
      "Epoch 17/25\n",
      "55000/55000 [==============================] - 9s 166us/step - loss: 0.2165 - acc: 0.9299\n",
      "Epoch 18/25\n",
      "55000/55000 [==============================] - 9s 159us/step - loss: 0.1917 - acc: 0.9374\n",
      "Epoch 19/25\n",
      "55000/55000 [==============================] - 9s 158us/step - loss: 0.1847 - acc: 0.9411\n",
      "Epoch 20/25\n",
      "55000/55000 [==============================] - 9s 158us/step - loss: 0.1903 - acc: 0.9400\n",
      "Epoch 21/25\n",
      "55000/55000 [==============================] - 9s 156us/step - loss: 0.1812 - acc: 0.9433\n",
      "Epoch 22/25\n",
      "55000/55000 [==============================] - 8s 153us/step - loss: 0.1886 - acc: 0.9414\n",
      "Epoch 23/25\n",
      "55000/55000 [==============================] - 9s 155us/step - loss: 0.1938 - acc: 0.9422\n",
      "Epoch 24/25\n",
      "55000/55000 [==============================] - 8s 154us/step - loss: 0.1742 - acc: 0.9477\n",
      "Epoch 25/25\n",
      "55000/55000 [==============================] - 8s 154us/step - loss: 0.1834 - acc: 0.9457\n"
     ]
    },
    {
     "data": {
      "text/plain": [
       "<keras.callbacks.History at 0x7f27c4676eb8>"
      ]
     },
     "execution_count": 17,
     "metadata": {},
     "output_type": "execute_result"
    }
   ],
   "source": [
    "model.fit(x_train, onehot_train_labels,\n",
    "          epochs= 25,\n",
    "          batch_size=20,\n",
    "          verbose = 1)"
   ]
  },
  {
   "cell_type": "code",
   "execution_count": 18,
   "metadata": {},
   "outputs": [
    {
     "name": "stdout",
     "output_type": "stream",
     "text": [
      "10000/10000 [==============================] - 1s 83us/step\n",
      "Testing Accuracy:  0.5481000005304814\n"
     ]
    }
   ],
   "source": [
    "\n",
    "score = model.evaluate(x_test, onehot_test_labels, batch_size= 20)\n",
    "print(\"Testing Accuracy: \", score[1])"
   ]
  },
  {
   "cell_type": "code",
   "execution_count": 19,
   "metadata": {},
   "outputs": [
    {
     "data": {
      "text/plain": [
       "<matplotlib.image.AxesImage at 0x7f283414ed30>"
      ]
     },
     "execution_count": 19,
     "metadata": {},
     "output_type": "execute_result"
    },
    {
     "data": {
      "image/png": "[encoded data removed]",
      "text/plain": [
       "<matplotlib.figure.Figure at 0x7f275077c2e8>"
      ]
     },
     "metadata": {},
     "output_type": "display_data"
    }
   ],
   "source": [
    "data_path = 'mnist_shifted_train_data.tfrecords'  # address to save the hdf5 file\n",
    "gpu_options = tf.GPUOptions(allow_growth=True)\n",
    "with tf.Session(config=tf.ConfigProto(gpu_options=gpu_options)) as sess:\n",
    "    feature = {'train/image': tf.FixedLenFeature([], tf.string),\n",
    "               'train/label': tf.FixedLenFeature([], tf.int64)}\n",
    "   \n",
    "    # Create a list of filenames and pass it to a queue\n",
    "    filename_queue = tf.train.string_input_producer([data_path], num_epochs=1)\n",
    "    # Define a reader and read the next record\n",
    "    reader = tf.TFRecordReader()\n",
    "    _, serialized_example = reader.read(filename_queue)\n",
    "    # Decode the record read by the reader\n",
    "    features = tf.parse_single_example(serialized_example, features=feature)\n",
    "    # Convert the image data from string back to the numbers\n",
    "    image = tf.decode_raw(features['train/image'], tf.float32)\n",
    "    \n",
    "    # Cast label data into int32\n",
    "    label = tf.cast(features['train/label'], tf.int32)\n",
    "    # Reshape image data into the original shape\n",
    "    image = tf.reshape(image, (60,60))\n",
    "    \n",
    "    # Any preprocessing here ...\n",
    "    \n",
    "    # Creates batches by randomly shuffling tensors\n",
    "\n",
    "    train_images = []\n",
    "    train_labels = []\n",
    "    # Initialize all global and local variables\n",
    "    init_op = tf.group(tf.global_variables_initializer(), tf.local_variables_initializer())\n",
    "    sess.run(init_op)\n",
    "    # Create a coordinator and run all QueueRunner objects\n",
    "    coord = tf.train.Coordinator()\n",
    "    threads = tf.train.start_queue_runners(coord=coord)\n",
    "    for batch_index in range(55000):\n",
    "        img, lbl = sess.run([image, label])\n",
    "        train_images.append(img)\n",
    "        train_labels.append(lbl)\n",
    "    # Stop the threads\n",
    "    coord.request_stop()\n",
    "    \n",
    "    # Wait for threads to stop\n",
    "    coord.join(threads)\n",
    "    sess.close()\n",
    "\n",
    "plt.imshow(train_images[0])\n",
    "\n",
    "data_path = 'mnist_shifted_test_data.tfrecords'  # address to save the hdf5 file\n",
    "gpu_options = tf.GPUOptions(allow_growth=True)\n",
    "with tf.Session(config=tf.ConfigProto(gpu_options=gpu_options)) as sess:\n",
    "    feature = {'test/image': tf.FixedLenFeature([], tf.string),\n",
    "               'test/label': tf.FixedLenFeature([], tf.int64)}\n",
    "   \n",
    "    # Create a list of filenames and pass it to a queue\n",
    "    filename_queue = tf.train.string_input_producer([data_path], num_epochs=1)\n",
    "    # Define a reader and read the next record\n",
    "    reader = tf.TFRecordReader()\n",
    "    _, serialized_example = reader.read(filename_queue)\n",
    "    # Decode the record read by the reader\n",
    "    features = tf.parse_single_example(serialized_example, features=feature)\n",
    "    # Convert the image data from string back to the numbers\n",
    "    image = tf.decode_raw(features['test/image'], tf.float32)\n",
    "    \n",
    "    # Cast label data into int32\n",
    "    label = tf.cast(features['test/label'], tf.int32)\n",
    "    # Reshape image data into the original shape\n",
    "    image = tf.reshape(image, (60,60))\n",
    "    \n",
    "    test_images = []\n",
    "    test_labels = []\n",
    "# Initialize all global and local variables\n",
    "    init_op = tf.group(tf.global_variables_initializer(), tf.local_variables_initializer())\n",
    "    sess.run(init_op)\n",
    "    # Create a coordinator and run all QueueRunner objects\n",
    "    coord = tf.train.Coordinator()\n",
    "    threads = tf.train.start_queue_runners(coord=coord)\n",
    "    for batch_index in range(10000):\n",
    "        img, lbl = sess.run([image, label])\n",
    "        test_images.append(img)\n",
    "        test_labels.append(lbl)\n",
    "    # Stop the threads\n",
    "    coord.request_stop()\n",
    "    \n",
    "    # Wait for threads to stop\n",
    "    coord.join(threads)\n",
    "    sess.close()\n",
    "\n",
    "\n",
    "\n",
    "\n",
    "\n",
    "plt.imshow(test_images[0])\n",
    "\n"
   ]
  },
  {
   "cell_type": "code",
   "execution_count": 20,
   "metadata": {},
   "outputs": [],
   "source": [
    "\n",
    "onehot_train_labels = np.zeros((55000, 10))\n",
    "onehot_train_labels[np.arange(55000), train_labels] = 1\n",
    "\n",
    "\n",
    "onehot_test_labels = np.zeros((10000, 10))\n",
    "onehot_test_labels[np.arange(10000), test_labels] = 1\n",
    "\n",
    "x_train = np.asarray(train_images)\n",
    "x_train = np.reshape(x_train,(-1, 60, 60,1))\n",
    "y_train = np.asarray(train_labels)\n",
    "x_test = np.asarray(test_images)\n",
    "x_test = np.reshape(x_test,(-1, 60,60,1))\n",
    "y_test = np.asarray(test_labels)\n",
    "\n",
    "input_shape = (60, 60, 1)\n",
    "num_classes = 10\n",
    "\n",
    "\n",
    "\n",
    "\n"
   ]
  },
  {
   "cell_type": "code",
   "execution_count": 26,
   "metadata": {},
   "outputs": [],
   "source": [
    "\n",
    "model = Sequential()\n",
    "model.add(Conv2D(8, kernel_size=(10, 10), strides= (5,5), activation='relu', input_shape = input_shape ))\n",
    "model.add(Flatten())\n",
    "model.add(Dense(256, activation='relu'))\n",
    "model.add(Dense(num_classes, activation='softmax'))\n",
    "\n",
    "model.compile(loss=keras.losses.categorical_crossentropy,\n",
    "              optimizer=keras.optimizers.SGD(lr=0.01, momentum = 0.9),\n",
    "              metrics=['accuracy'])\n"
   ]
  },
  {
   "cell_type": "code",
   "execution_count": 27,
   "metadata": {},
   "outputs": [
    {
     "name": "stdout",
     "output_type": "stream",
     "text": [
      "Epoch 1/20\n",
      "55000/55000 [==============================] - 9s 156us/step - loss: 1.8162 - acc: 0.3345\n",
      "Epoch 2/20\n",
      "55000/55000 [==============================] - 9s 155us/step - loss: 1.0258 - acc: 0.6473\n",
      "Epoch 3/20\n",
      "55000/55000 [==============================] - 8s 153us/step - loss: 0.7224 - acc: 0.7612\n",
      "Epoch 4/20\n",
      "55000/55000 [==============================] - 8s 153us/step - loss: 0.5719 - acc: 0.8112\n",
      "Epoch 5/20\n",
      "55000/55000 [==============================] - 8s 153us/step - loss: 0.4789 - acc: 0.8400\n",
      "Epoch 6/20\n",
      "55000/55000 [==============================] - 8s 153us/step - loss: 0.4018 - acc: 0.8652\n",
      "Epoch 7/20\n",
      "55000/55000 [==============================] - 8s 154us/step - loss: 0.3475 - acc: 0.8822\n",
      "Epoch 8/20\n",
      "55000/55000 [==============================] - 8s 154us/step - loss: 0.3068 - acc: 0.8957\n",
      "Epoch 9/20\n",
      "55000/55000 [==============================] - 8s 154us/step - loss: 0.2600 - acc: 0.9107\n",
      "Epoch 10/20\n",
      "55000/55000 [==============================] - 8s 152us/step - loss: 0.2358 - acc: 0.9196\n",
      "Epoch 11/20\n",
      "55000/55000 [==============================] - 8s 152us/step - loss: 0.2050 - acc: 0.9303\n",
      "Epoch 12/20\n",
      "55000/55000 [==============================] - 8s 150us/step - loss: 0.1800 - acc: 0.9383\n",
      "Epoch 13/20\n",
      "55000/55000 [==============================] - 8s 148us/step - loss: 0.1667 - acc: 0.9446\n",
      "Epoch 14/20\n",
      "55000/55000 [==============================] - 8s 148us/step - loss: 0.1546 - acc: 0.9477\n",
      "Epoch 15/20\n",
      "55000/55000 [==============================] - 8s 149us/step - loss: 0.1427 - acc: 0.9526\n",
      "Epoch 16/20\n",
      "55000/55000 [==============================] - 8s 150us/step - loss: 0.1419 - acc: 0.9530\n",
      "Epoch 17/20\n",
      "55000/55000 [==============================] - 9s 155us/step - loss: 0.1334 - acc: 0.9562\n",
      "Epoch 18/20\n",
      "55000/55000 [==============================] - 8s 152us/step - loss: 0.1179 - acc: 0.9609\n",
      "Epoch 19/20\n",
      "55000/55000 [==============================] - 8s 144us/step - loss: 0.1164 - acc: 0.9623\n",
      "Epoch 20/20\n",
      "55000/55000 [==============================] - 8s 147us/step - loss: 0.1164 - acc: 0.9631\n"
     ]
    },
    {
     "data": {
      "text/plain": [
       "<keras.callbacks.History at 0x7f27006ed0b8>"
      ]
     },
     "execution_count": 27,
     "metadata": {},
     "output_type": "execute_result"
    }
   ],
   "source": [
    "\n",
    "model.fit(x_train, onehot_train_labels,\n",
    "          epochs= 20,\n",
    "          batch_size=20,\n",
    "          verbose = 1)"
   ]
  },
  {
   "cell_type": "code",
   "execution_count": 28,
   "metadata": {},
   "outputs": [
    {
     "name": "stdout",
     "output_type": "stream",
     "text": [
      "10000/10000 [==============================] - 1s 96us/step\n",
      "Testing Accuracy:  0.7990000002384186\n"
     ]
    }
   ],
   "source": [
    "\n",
    "score = model.evaluate(x_test, onehot_test_labels, batch_size= 20)\n",
    "print(\"Testing Accuracy: \", score[1])"
   ]
  },
  {
   "cell_type": "code",
   "execution_count": 34,
   "metadata": {},
   "outputs": [
    {
     "data": {
      "text/plain": [
       "<matplotlib.image.AxesImage at 0x7f26a32d7a58>"
      ]
     },
     "execution_count": 34,
     "metadata": {},
     "output_type": "execute_result"
    },
    {
     "data": {
      "image/png": "[encoded data removed]",
      "text/plain": [
       "<matplotlib.figure.Figure at 0x7f26a3423a20>"
      ]
     },
     "metadata": {},
     "output_type": "display_data"
    }
   ],
   "source": [
    "plt.imshow(train_images[89])"
   ]
  },
  {
   "cell_type": "code",
   "execution_count": null,
   "metadata": {},
   "outputs": [],
   "source": []
  },
  {
   "cell_type": "code",
   "execution_count": null,
   "metadata": {},
   "outputs": [],
   "source": []
  },
  {
   "cell_type": "code",
   "execution_count": null,
   "metadata": {},
   "outputs": [],
   "source": []
  },
  {
   "cell_type": "code",
   "execution_count": null,
   "metadata": {},
   "outputs": [],
   "source": []
  }
 ],
 "metadata": {
  "kernelspec": {
   "display_name": "Python 3",
   "language": "python",
   "name": "python3"
  },
  "language_info": {
   "codemirror_mode": {
    "name": "ipython",
    "version": 3
   },
   "file_extension": ".py",
   "mimetype": "text/x-python",
   "name": "python",
   "nbconvert_exporter": "python",
   "pygments_lexer": "ipython3",
   "version": "3.6.4"
  }
 },
 "nbformat": 4,
 "nbformat_minor": 2
}
