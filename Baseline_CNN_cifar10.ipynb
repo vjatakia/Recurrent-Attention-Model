{
 "cells": [
  {
   "cell_type": "code",
   "execution_count": 31,
   "metadata": {},
   "outputs": [],
   "source": [
    "import numpy as np\n",
    "from keras.datasets import cifar10\n",
    "from keras.models import Sequential\n",
    "from keras.layers import Dense\n",
    "from keras.layers import Dropout\n",
    "from keras.layers import Flatten\n",
    "from keras.constraints import maxnorm\n",
    "from keras.optimizers import SGD,Adam\n",
    "from keras.layers.convolutional import Conv2D\n",
    "from keras.layers.convolutional import MaxPooling2D\n",
    "from keras.utils import np_utils\n",
    "from keras import backend as K\n",
    "K.set_image_dim_ordering('th')\n",
    "\n",
    "\n",
    "import tensorflow as tf\n",
    "from keras.backend.tensorflow_backend import set_session\n",
    "gpu_options = tf.GPUOptions(allow_growth=True)\n",
    "config=tf.ConfigProto(gpu_options=gpu_options)\n",
    "\n",
    "config.gpu_options.visible_device_list = \"0\"\n",
    "set_session(tf.Session(config=config))\n",
    "\n"
   ]
  },
  {
   "cell_type": "code",
   "execution_count": 14,
   "metadata": {},
   "outputs": [],
   "source": [
    "# load data\n",
    "(X_train, y_train), (X_test, y_test) = cifar10.load_data()"
   ]
  },
  {
   "cell_type": "code",
   "execution_count": 15,
   "metadata": {},
   "outputs": [],
   "source": [
    "# normalize inputs from 0-255 to 0.0-1.0\n",
    "X_train = X_train.astype('float32')\n",
    "X_test = X_test.astype('float32')\n",
    "X_train = X_train / 255.0\n",
    "X_test = X_test / 255.0"
   ]
  },
  {
   "cell_type": "code",
   "execution_count": 16,
   "metadata": {},
   "outputs": [],
   "source": [
    "X_train = np.asarray([np.average(i, axis = 0) for i in X_train])\n",
    "X_test = np.asarray([np.average(i, axis = 0) for i in X_test])\n",
    "\n",
    "X_train = np.reshape(X_train, (-1, 1,32,32))\n",
    "X_test = np.reshape(X_test, (-1, 1,32,32))\n"
   ]
  },
  {
   "cell_type": "code",
   "execution_count": 18,
   "metadata": {},
   "outputs": [],
   "source": [
    "# one hot encode outputs\n",
    "y_train = np_utils.to_categorical(y_train)\n",
    "y_test = np_utils.to_categorical(y_test)\n",
    "num_classes = y_test.shape[1]"
   ]
  },
  {
   "cell_type": "code",
   "execution_count": 36,
   "metadata": {},
   "outputs": [
    {
     "name": "stdout",
     "output_type": "stream",
     "text": [
      "_________________________________________________________________\n",
      "Layer (type)                 Output Shape              Param #   \n",
      "=================================================================\n",
      "conv2d_12 (Conv2D)           (None, 8, 32, 32)         808       \n",
      "_________________________________________________________________\n",
      "flatten_9 (Flatten)          (None, 8192)              0         \n",
      "_________________________________________________________________\n",
      "dense_19 (Dense)             (None, 256)               2097408   \n",
      "_________________________________________________________________\n",
      "dense_20 (Dense)             (None, 10)                2570      \n",
      "=================================================================\n",
      "Total params: 2,100,786\n",
      "Trainable params: 2,100,786\n",
      "Non-trainable params: 0\n",
      "_________________________________________________________________\n",
      "None\n"
     ]
    }
   ],
   "source": [
    "# Create the model\n",
    "model = Sequential()\n",
    "model.add(Conv2D(8, (10, 10), input_shape=(1,32, 32), padding='same', activation='relu', kernel_constraint=maxnorm(3)))\n",
    "model.add(Flatten())\n",
    "model.add(Dense(256, activation='relu', kernel_constraint=maxnorm(3)))\n",
    "#model.add(Dropout(0.5))\n",
    "model.add(Dense(num_classes, activation='softmax'))\n",
    "# Compile model\n",
    "epochs = 50\n",
    "lrate = 0.001\n",
    "decay = lrate/epochs\n",
    "adam = Adam(lr=0.001, beta_1=0.9, beta_2=0.999, epsilon=None, decay=0.0, amsgrad=False)\n",
    "model.compile(loss='categorical_crossentropy', optimizer=adam, metrics=['accuracy'])\n",
    "print(model.summary())"
   ]
  },
  {
   "cell_type": "code",
   "execution_count": 37,
   "metadata": {},
   "outputs": [
    {
     "name": "stdout",
     "output_type": "stream",
     "text": [
      "Train on 50000 samples, validate on 10000 samples\n",
      "Epoch 1/50\n",
      "50000/50000 [==============================] - 8s 163us/step - loss: 1.7410 - acc: 0.3768 - val_loss: 1.5875 - val_acc: 0.4334\n",
      "Epoch 2/50\n",
      "50000/50000 [==============================] - 8s 153us/step - loss: 1.5365 - acc: 0.4543 - val_loss: 1.5028 - val_acc: 0.4627\n",
      "Epoch 3/50\n",
      "50000/50000 [==============================] - 7s 147us/step - loss: 1.4203 - acc: 0.4944 - val_loss: 1.4667 - val_acc: 0.4814\n",
      "Epoch 4/50\n",
      "50000/50000 [==============================] - 7s 145us/step - loss: 1.3399 - acc: 0.5269 - val_loss: 1.4443 - val_acc: 0.4909\n",
      "Epoch 5/50\n",
      "50000/50000 [==============================] - 7s 142us/step - loss: 1.2846 - acc: 0.5448 - val_loss: 1.3910 - val_acc: 0.5104\n",
      "Epoch 6/50\n",
      "50000/50000 [==============================] - 7s 143us/step - loss: 1.2484 - acc: 0.5583 - val_loss: 1.4023 - val_acc: 0.5073\n",
      "Epoch 7/50\n",
      "50000/50000 [==============================] - 7s 143us/step - loss: 1.2151 - acc: 0.5722 - val_loss: 1.3779 - val_acc: 0.5163\n",
      "Epoch 8/50\n",
      "50000/50000 [==============================] - 7s 142us/step - loss: 1.1918 - acc: 0.5803 - val_loss: 1.3240 - val_acc: 0.5374\n",
      "Epoch 9/50\n",
      "50000/50000 [==============================] - 7s 142us/step - loss: 1.1680 - acc: 0.5905 - val_loss: 1.3510 - val_acc: 0.5284\n",
      "Epoch 10/50\n",
      "50000/50000 [==============================] - 7s 142us/step - loss: 1.1416 - acc: 0.5977 - val_loss: 1.3472 - val_acc: 0.5299\n",
      "Epoch 11/50\n",
      "50000/50000 [==============================] - 7s 143us/step - loss: 1.1204 - acc: 0.6085 - val_loss: 1.3489 - val_acc: 0.5316\n",
      "Epoch 12/50\n",
      "50000/50000 [==============================] - 7s 142us/step - loss: 1.0974 - acc: 0.6134 - val_loss: 1.3878 - val_acc: 0.5219\n",
      "Epoch 13/50\n",
      "50000/50000 [==============================] - 7s 143us/step - loss: 1.0700 - acc: 0.6249 - val_loss: 1.3032 - val_acc: 0.5501\n",
      "Epoch 14/50\n",
      "50000/50000 [==============================] - 7s 142us/step - loss: 1.0455 - acc: 0.6327 - val_loss: 1.3766 - val_acc: 0.5327\n",
      "Epoch 15/50\n",
      "50000/50000 [==============================] - 7s 142us/step - loss: 1.0209 - acc: 0.6446 - val_loss: 1.3044 - val_acc: 0.5567\n",
      "Epoch 16/50\n",
      "50000/50000 [==============================] - 7s 141us/step - loss: 1.0004 - acc: 0.6500 - val_loss: 1.3135 - val_acc: 0.5497\n",
      "Epoch 17/50\n",
      "50000/50000 [==============================] - 7s 139us/step - loss: 0.9829 - acc: 0.6568 - val_loss: 1.3247 - val_acc: 0.5511\n",
      "Epoch 18/50\n",
      "50000/50000 [==============================] - 7s 141us/step - loss: 0.9637 - acc: 0.6644 - val_loss: 1.3439 - val_acc: 0.5459\n",
      "Epoch 19/50\n",
      "50000/50000 [==============================] - 7s 142us/step - loss: 0.9494 - acc: 0.6678 - val_loss: 1.3765 - val_acc: 0.5454\n",
      "Epoch 20/50\n",
      "50000/50000 [==============================] - 7s 140us/step - loss: 0.9291 - acc: 0.6748 - val_loss: 1.3273 - val_acc: 0.5574\n",
      "Epoch 21/50\n",
      "50000/50000 [==============================] - 7s 142us/step - loss: 0.9235 - acc: 0.6802 - val_loss: 1.3338 - val_acc: 0.5521\n",
      "Epoch 22/50\n",
      "50000/50000 [==============================] - 7s 142us/step - loss: 0.9056 - acc: 0.6842 - val_loss: 1.3419 - val_acc: 0.5584\n",
      "Epoch 23/50\n",
      "50000/50000 [==============================] - 7s 142us/step - loss: 0.8980 - acc: 0.6878 - val_loss: 1.3506 - val_acc: 0.5542\n",
      "Epoch 24/50\n",
      "50000/50000 [==============================] - 7s 141us/step - loss: 0.8814 - acc: 0.6922 - val_loss: 1.3586 - val_acc: 0.5526\n",
      "Epoch 25/50\n",
      "50000/50000 [==============================] - 7s 142us/step - loss: 0.8756 - acc: 0.6957 - val_loss: 1.3953 - val_acc: 0.5406\n",
      "Epoch 26/50\n",
      "50000/50000 [==============================] - 7s 143us/step - loss: 0.8756 - acc: 0.6967 - val_loss: 1.3434 - val_acc: 0.5539\n",
      "Epoch 27/50\n",
      "50000/50000 [==============================] - 7s 144us/step - loss: 0.8580 - acc: 0.7024 - val_loss: 1.3698 - val_acc: 0.5505\n",
      "Epoch 28/50\n",
      "50000/50000 [==============================] - 7s 145us/step - loss: 0.8487 - acc: 0.7042 - val_loss: 1.3957 - val_acc: 0.5415\n",
      "Epoch 29/50\n",
      "50000/50000 [==============================] - 7s 143us/step - loss: 0.8467 - acc: 0.7047 - val_loss: 1.4063 - val_acc: 0.5415\n",
      "Epoch 30/50\n",
      "50000/50000 [==============================] - 7s 144us/step - loss: 0.8344 - acc: 0.7115 - val_loss: 1.3531 - val_acc: 0.5564\n",
      "Epoch 31/50\n",
      "50000/50000 [==============================] - 7s 149us/step - loss: 0.8285 - acc: 0.7110 - val_loss: 1.3771 - val_acc: 0.5555\n",
      "Epoch 32/50\n",
      "50000/50000 [==============================] - 7s 145us/step - loss: 0.8202 - acc: 0.7149 - val_loss: 1.4109 - val_acc: 0.5482\n",
      "Epoch 33/50\n",
      "50000/50000 [==============================] - 7s 141us/step - loss: 0.8232 - acc: 0.7138 - val_loss: 1.3624 - val_acc: 0.5550\n",
      "Epoch 34/50\n",
      "50000/50000 [==============================] - 7s 141us/step - loss: 0.8090 - acc: 0.7205 - val_loss: 1.3758 - val_acc: 0.5535\n",
      "Epoch 35/50\n",
      "50000/50000 [==============================] - 7s 141us/step - loss: 0.8021 - acc: 0.7214 - val_loss: 1.4035 - val_acc: 0.5458\n",
      "Epoch 36/50\n",
      "50000/50000 [==============================] - 7s 141us/step - loss: 0.8037 - acc: 0.7212 - val_loss: 1.4491 - val_acc: 0.5310\n",
      "Epoch 37/50\n",
      "50000/50000 [==============================] - 7s 142us/step - loss: 0.7968 - acc: 0.7235 - val_loss: 1.3683 - val_acc: 0.5600\n",
      "Epoch 38/50\n",
      "50000/50000 [==============================] - 7s 144us/step - loss: 0.7958 - acc: 0.7247 - val_loss: 1.4200 - val_acc: 0.5498\n",
      "Epoch 39/50\n",
      "50000/50000 [==============================] - 7s 143us/step - loss: 0.7859 - acc: 0.7272 - val_loss: 1.3944 - val_acc: 0.5476\n",
      "Epoch 40/50\n",
      "50000/50000 [==============================] - 7s 140us/step - loss: 0.7854 - acc: 0.7293 - val_loss: 1.3980 - val_acc: 0.5481\n",
      "Epoch 41/50\n",
      "50000/50000 [==============================] - 7s 142us/step - loss: 0.7743 - acc: 0.7303 - val_loss: 1.3839 - val_acc: 0.5564\n",
      "Epoch 42/50\n",
      "50000/50000 [==============================] - 7s 141us/step - loss: 0.7796 - acc: 0.7298 - val_loss: 1.4053 - val_acc: 0.5511\n",
      "Epoch 43/50\n",
      "50000/50000 [==============================] - 7s 143us/step - loss: 0.7662 - acc: 0.7356 - val_loss: 1.3963 - val_acc: 0.5556\n",
      "Epoch 44/50\n",
      "50000/50000 [==============================] - 7s 143us/step - loss: 0.7656 - acc: 0.7375 - val_loss: 1.4322 - val_acc: 0.5415\n",
      "Epoch 45/50\n",
      "50000/50000 [==============================] - 7s 143us/step - loss: 0.7620 - acc: 0.7367 - val_loss: 1.4137 - val_acc: 0.5491\n",
      "Epoch 46/50\n",
      "50000/50000 [==============================] - 7s 141us/step - loss: 0.7553 - acc: 0.7390 - val_loss: 1.3842 - val_acc: 0.5538\n",
      "Epoch 47/50\n",
      "50000/50000 [==============================] - 7s 142us/step - loss: 0.7633 - acc: 0.7348 - val_loss: 1.4234 - val_acc: 0.5450\n",
      "Epoch 48/50\n",
      "50000/50000 [==============================] - 7s 139us/step - loss: 0.7484 - acc: 0.7402 - val_loss: 1.4046 - val_acc: 0.5582\n",
      "Epoch 49/50\n",
      "50000/50000 [==============================] - 6s 117us/step - loss: 0.7470 - acc: 0.7421 - val_loss: 1.4227 - val_acc: 0.5526\n",
      "Epoch 50/50\n",
      "50000/50000 [==============================] - 6s 118us/step - loss: 0.7509 - acc: 0.7389 - val_loss: 1.4309 - val_acc: 0.5535\n",
      "Accuracy: 55.35%\n"
     ]
    }
   ],
   "source": [
    "# Fit the model\n",
    "model.fit(X_train, y_train, validation_data=(X_test, y_test), epochs=epochs, batch_size=32, verbose = 1)\n",
    "# Final evaluation of the model\n",
    "scores = model.evaluate(X_test, y_test, verbose=0)\n",
    "print(\"Accuracy: %.2f%%\" % (scores[1]*100))\n"
   ]
  },
  {
   "cell_type": "code",
   "execution_count": null,
   "metadata": {
    "collapsed": true
   },
   "outputs": [],
   "source": []
  }
 ],
 "metadata": {
  "kernelspec": {
   "display_name": "Python 3",
   "language": "python",
   "name": "python3"
  },
  "language_info": {
   "codemirror_mode": {
    "name": "ipython",
    "version": 3
   },
   "file_extension": ".py",
   "mimetype": "text/x-python",
   "name": "python",
   "nbconvert_exporter": "python",
   "pygments_lexer": "ipython3",
   "version": "3.6.4"
  }
 },
 "nbformat": 4,
 "nbformat_minor": 2
}
