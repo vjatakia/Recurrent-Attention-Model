{
 "cells": [
  {
   "cell_type": "code",
   "execution_count": 1,
   "metadata": {},
   "outputs": [
    {
     "name": "stderr",
     "output_type": "stream",
     "text": [
      "Using TensorFlow backend.\n"
     ]
    }
   ],
   "source": [
    "import keras\n",
    "from keras.models import Sequential\n",
    "from keras.layers import Dense, Dropout, Activation\n",
    "from keras.optimizers import SGD\n",
    "import numpy as np\n",
    "import matplotlib.pyplot as plt\n",
    "import tensorflow as tf\n",
    "from tensorflow.examples.tutorials.mnist import input_data\n",
    "\n",
    "\n",
    "\n",
    "# Generate dummy data\n"
   ]
  },
  {
   "cell_type": "code",
   "execution_count": 2,
   "metadata": {},
   "outputs": [
    {
     "name": "stdout",
     "output_type": "stream",
     "text": [
      "Extracting /tmp/data/train-images-idx3-ubyte.gz\n",
      "Extracting /tmp/data/train-labels-idx1-ubyte.gz\n",
      "Extracting /tmp/data/t10k-images-idx3-ubyte.gz\n",
      "Extracting /tmp/data/t10k-labels-idx1-ubyte.gz\n"
     ]
    }
   ],
   "source": [
    "mnist = input_data.read_data_sets(\"/tmp/data/\", one_hot = True)"
   ]
  },
  {
   "cell_type": "code",
   "execution_count": 3,
   "metadata": {},
   "outputs": [],
   "source": [
    "x_train = mnist.train.images\n",
    "y_train = mnist.train.labels\n",
    "x_test = mnist.test.images\n",
    "y_test = mnist.test.labels"
   ]
  },
  {
   "cell_type": "code",
   "execution_count": 4,
   "metadata": {},
   "outputs": [],
   "source": [
    "model = Sequential()\n",
    "# Dense(256) is a fully-connected layer with 64 hidden units.\n",
    "# in the first layer, you must specify the expected input data shape:\n",
    "# here, 20-dimensional vectors.\n",
    "model.add(Dense(256, activation='relu', input_dim= 784))\n",
    "#model.add(Dropout(0.5))\n",
    "model.add(Dense(256, activation='relu'))\n",
    "#model.add(Dropout(0.5))\n",
    "model.add(Dense(10, activation='softmax'))\n",
    "#decay=1e-6\n",
    "sgd = SGD(lr=0.001, momentum=0.9, nesterov=True)\n",
    "model.compile(loss='categorical_crossentropy',\n",
    "              optimizer=sgd,\n",
    "              metrics=['accuracy'])"
   ]
  },
  {
   "cell_type": "code",
   "execution_count": 5,
   "metadata": {},
   "outputs": [
    {
     "name": "stdout",
     "output_type": "stream",
     "text": [
      "Epoch 1/10\n",
      "55000/55000 [==============================] - 8s 150us/step - loss: 0.5170 - acc: 0.8648\n",
      "Epoch 2/10\n",
      "55000/55000 [==============================] - 7s 120us/step - loss: 0.2497 - acc: 0.9286\n",
      "Epoch 3/10\n",
      "55000/55000 [==============================] - 7s 121us/step - loss: 0.1979 - acc: 0.9433\n",
      "Epoch 4/10\n",
      "55000/55000 [==============================] - 7s 120us/step - loss: 0.1642 - acc: 0.9531\n",
      "Epoch 5/10\n",
      "55000/55000 [==============================] - 7s 121us/step - loss: 0.1406 - acc: 0.9597\n",
      "Epoch 6/10\n",
      "55000/55000 [==============================] - 7s 121us/step - loss: 0.1217 - acc: 0.9656\n",
      "Epoch 7/10\n",
      "55000/55000 [==============================] - 7s 124us/step - loss: 0.1073 - acc: 0.9695\n",
      "Epoch 8/10\n",
      "55000/55000 [==============================] - 7s 125us/step - loss: 0.0948 - acc: 0.9733\n",
      "Epoch 9/10\n",
      "55000/55000 [==============================] - 7s 131us/step - loss: 0.0851 - acc: 0.9763\n",
      "Epoch 10/10\n",
      "55000/55000 [==============================] - 7s 128us/step - loss: 0.0764 - acc: 0.9781\n"
     ]
    },
    {
     "data": {
      "text/plain": [
       "<keras.callbacks.History at 0x7fb7aab780b8>"
      ]
     },
     "execution_count": 5,
     "metadata": {},
     "output_type": "execute_result"
    }
   ],
   "source": [
    "model.fit(x_train, y_train,\n",
    "          epochs= 10,\n",
    "          batch_size=20,\n",
    "          verbose = 1)"
   ]
  },
  {
   "cell_type": "code",
   "execution_count": 8,
   "metadata": {},
   "outputs": [
    {
     "name": "stdout",
     "output_type": "stream",
     "text": [
      "10000/10000 [==============================] - 0s 47us/step\n",
      "Testing Accuracy:  0.972799995065\n"
     ]
    }
   ],
   "source": [
    "score = model.evaluate(x_test, y_test, batch_size= 20)\n",
    "print(\"Testing Accuracy: \", score[1])"
   ]
  },
  {
   "cell_type": "code",
   "execution_count": null,
   "metadata": {
    "collapsed": true
   },
   "outputs": [],
   "source": []
  },
  {
   "cell_type": "code",
   "execution_count": null,
   "metadata": {
    "collapsed": true
   },
   "outputs": [],
   "source": []
  },
  {
   "cell_type": "code",
   "execution_count": null,
   "metadata": {
    "collapsed": true
   },
   "outputs": [],
   "source": []
  },
  {
   "cell_type": "code",
   "execution_count": null,
   "metadata": {
    "collapsed": true
   },
   "outputs": [],
   "source": []
  },
  {
   "cell_type": "code",
   "execution_count": 6,
   "metadata": {},
   "outputs": [],
   "source": [
    "data_path = 'mnist_cluttered_train_data.tfrecords'  # address to save the hdf5 file\n",
    "gpu_options = tf.GPUOptions(allow_growth=True)\n",
    "with tf.Session(config=tf.ConfigProto(gpu_options=gpu_options)) as sess:\n",
    "    feature = {'train/image': tf.FixedLenFeature([], tf.string),\n",
    "               'train/label': tf.FixedLenFeature([], tf.int64)}\n",
    "   \n",
    "    # Create a list of filenames and pass it to a queue\n",
    "    filename_queue = tf.train.string_input_producer([data_path], num_epochs=1)\n",
    "    # Define a reader and read the next record\n",
    "    reader = tf.TFRecordReader()\n",
    "    _, serialized_example = reader.read(filename_queue)\n",
    "    # Decode the record read by the reader\n",
    "    features = tf.parse_single_example(serialized_example, features=feature)\n",
    "    # Convert the image data from string back to the numbers\n",
    "    image = tf.decode_raw(features['train/image'], tf.float32)\n",
    "    \n",
    "    # Cast label data into int32\n",
    "    label = tf.cast(features['train/label'], tf.int32)\n",
    "    # Reshape image data into the original shape\n",
    "    image = tf.reshape(image, (60,60))\n",
    "    \n",
    "    # Any preprocessing here ...\n",
    "    \n",
    "    # Creates batches by randomly shuffling tensors\n",
    "\n",
    "    train_images = []\n",
    "    train_labels = []\n",
    "    # Initialize all global and local variables\n",
    "    init_op = tf.group(tf.global_variables_initializer(), tf.local_variables_initializer())\n",
    "    sess.run(init_op)\n",
    "    # Create a coordinator and run all QueueRunner objects\n",
    "    coord = tf.train.Coordinator()\n",
    "    threads = tf.train.start_queue_runners(coord=coord)\n",
    "    for batch_index in range(55000):\n",
    "        img, lbl = sess.run([image, label])\n",
    "        train_images.append(img)\n",
    "        train_labels.append(lbl)\n",
    "    # Stop the threads\n",
    "    coord.request_stop()\n",
    "    \n",
    "    # Wait for threads to stop\n",
    "    coord.join(threads)\n",
    "    sess.close()"
   ]
  },
  {
   "cell_type": "code",
   "execution_count": 8,
   "metadata": {},
   "outputs": [
    {
     "data": {
      "text/plain": [
       "<matplotlib.image.AxesImage at 0x7fb7900d6898>"
      ]
     },
     "execution_count": 8,
     "metadata": {},
     "output_type": "execute_result"
    },
    {
     "data": {
      "image/png": "[encoded data removed]",
      "text/plain": [
       "<matplotlib.figure.Figure at 0x7fb7a7fc3d68>"
      ]
     },
     "metadata": {},
     "output_type": "display_data"
    }
   ],
   "source": [
    "plt.imshow(train_images[0])"
   ]
  },
  {
   "cell_type": "code",
   "execution_count": 9,
   "metadata": {},
   "outputs": [],
   "source": [
    "data_path = 'mnist_cluttered_test_data.tfrecords'  # address to save the hdf5 file\n",
    "gpu_options = tf.GPUOptions(allow_growth=True)\n",
    "with tf.Session(config=tf.ConfigProto(gpu_options=gpu_options)) as sess:\n",
    "    feature = {'test/image': tf.FixedLenFeature([], tf.string),\n",
    "               'test/label': tf.FixedLenFeature([], tf.int64)}\n",
    "   \n",
    "    # Create a list of filenames and pass it to a queue\n",
    "    filename_queue = tf.train.string_input_producer([data_path], num_epochs=1)\n",
    "    # Define a reader and read the next record\n",
    "    reader = tf.TFRecordReader()\n",
    "    _, serialized_example = reader.read(filename_queue)\n",
    "    # Decode the record read by the reader\n",
    "    features = tf.parse_single_example(serialized_example, features=feature)\n",
    "    # Convert the image data from string back to the numbers\n",
    "    image = tf.decode_raw(features['test/image'], tf.float32)\n",
    "    \n",
    "    # Cast label data into int32\n",
    "    label = tf.cast(features['test/label'], tf.int32)\n",
    "    # Reshape image data into the original shape\n",
    "    image = tf.reshape(image, (60,60))\n",
    "    \n",
    "    test_images = []\n",
    "    test_labels = []\n",
    "# Initialize all global and local variables\n",
    "    init_op = tf.group(tf.global_variables_initializer(), tf.local_variables_initializer())\n",
    "    sess.run(init_op)\n",
    "    # Create a coordinator and run all QueueRunner objects\n",
    "    coord = tf.train.Coordinator()\n",
    "    threads = tf.train.start_queue_runners(coord=coord)\n",
    "    for batch_index in range(10000):\n",
    "        img, lbl = sess.run([image, label])\n",
    "        test_images.append(img)\n",
    "        test_labels.append(lbl)\n",
    "    # Stop the threads\n",
    "    coord.request_stop()\n",
    "    \n",
    "    # Wait for threads to stop\n",
    "    coord.join(threads)\n",
    "    sess.close()\n",
    "\n",
    "\n",
    "\n"
   ]
  },
  {
   "cell_type": "code",
   "execution_count": 11,
   "metadata": {},
   "outputs": [
    {
     "data": {
      "text/plain": [
       "<matplotlib.image.AxesImage at 0x7fb78069f9e8>"
      ]
     },
     "execution_count": 11,
     "metadata": {},
     "output_type": "execute_result"
    },
    {
     "data": {
      "image/png": "[encoded data removed]",
      "text/plain": [
       "<matplotlib.figure.Figure at 0x7fb7806b94e0>"
      ]
     },
     "metadata": {},
     "output_type": "display_data"
    }
   ],
   "source": [
    "plt.imshow(test_images[0])"
   ]
  },
  {
   "cell_type": "code",
   "execution_count": 12,
   "metadata": {},
   "outputs": [],
   "source": [
    "flat_train_images = []\n",
    "for i in range(55000):\n",
    "    flat_train_images.append(np.reshape(train_images[i], (3600,)))\n",
    "\n",
    "flat_test_images = []\n",
    "for i in range(10000):\n",
    "    flat_test_images.append(np.reshape(test_images[i], (3600,)))\n",
    "    "
   ]
  },
  {
   "cell_type": "code",
   "execution_count": 13,
   "metadata": {},
   "outputs": [],
   "source": [
    "\n",
    "onehot_train_labels = np.zeros((55000, 10))\n",
    "onehot_train_labels[np.arange(55000), train_labels] = 1\n",
    "\n",
    "\n",
    "onehot_test_labels = np.zeros((10000, 10))\n",
    "onehot_test_labels[np.arange(10000), test_labels] = 1\n"
   ]
  },
  {
   "cell_type": "code",
   "execution_count": 14,
   "metadata": {},
   "outputs": [
    {
     "data": {
      "text/plain": [
       "(55000, 10)"
      ]
     },
     "execution_count": 14,
     "metadata": {},
     "output_type": "execute_result"
    }
   ],
   "source": [
    "onehot_train_labels.shape"
   ]
  },
  {
   "cell_type": "code",
   "execution_count": 15,
   "metadata": {},
   "outputs": [],
   "source": [
    "flat_train_images = np.asarray(flat_train_images)\n",
    "flat_test_images = np.asarray(flat_test_images)\n",
    "onehot_train_labels = np.asarray(onehot_train_labels)\n",
    "onehot_test_labels = np.asarray(onehot_test_labels)"
   ]
  },
  {
   "cell_type": "code",
   "execution_count": 16,
   "metadata": {},
   "outputs": [],
   "source": [
    "x_train = flat_train_images\n",
    "y_train = onehot_train_labels\n",
    "x_test = flat_test_images\n",
    "y_test = onehot_test_labels"
   ]
  },
  {
   "cell_type": "code",
   "execution_count": 24,
   "metadata": {},
   "outputs": [],
   "source": [
    "model = Sequential()\n",
    "# Dense(256) is a fully-connected layer with 64 hidden units.\n",
    "# in the first layer, you must specify the expected input data shape:\n",
    "# here, 20-dimensional vectors.\n",
    "model.add(Dense(256, activation='relu', input_dim= 3600))\n",
    "#model.add(Dropout(0.5))\n",
    "model.add(Dense(256, activation='relu'))\n",
    "#model.add(Dropout(0.5))\n",
    "model.add(Dense(10, activation='softmax'))\n",
    "#decay=1e-6\n",
    "sgd = SGD(lr=0.001, momentum=0.9, nesterov=True)\n",
    "model.compile(loss='categorical_crossentropy',\n",
    "              optimizer=sgd,\n",
    "              metrics=['accuracy'])\n"
   ]
  },
  {
   "cell_type": "code",
   "execution_count": 25,
   "metadata": {},
   "outputs": [
    {
     "name": "stdout",
     "output_type": "stream",
     "text": [
      "Epoch 1/20\n",
      "55000/55000 [==============================] - 8s 137us/step - loss: 2.2926 - acc: 0.1332\n",
      "Epoch 2/20\n",
      "55000/55000 [==============================] - 8s 140us/step - loss: 2.2129 - acc: 0.1998\n",
      "Epoch 3/20\n",
      "55000/55000 [==============================] - 7s 128us/step - loss: 2.1217 - acc: 0.2381\n",
      "Epoch 4/20\n",
      "55000/55000 [==============================] - 7s 127us/step - loss: 2.0172 - acc: 0.2861\n",
      "Epoch 5/20\n",
      "55000/55000 [==============================] - 7s 128us/step - loss: 1.8874 - acc: 0.3388\n",
      "Epoch 6/20\n",
      "55000/55000 [==============================] - 7s 126us/step - loss: 1.7298 - acc: 0.4004\n",
      "Epoch 7/20\n",
      "55000/55000 [==============================] - 7s 126us/step - loss: 1.5531 - acc: 0.4645\n",
      "Epoch 8/20\n",
      "55000/55000 [==============================] - 7s 122us/step - loss: 1.3702 - acc: 0.5319\n",
      "Epoch 9/20\n",
      "55000/55000 [==============================] - 7s 125us/step - loss: 1.1848 - acc: 0.5974\n",
      "Epoch 10/20\n",
      "55000/55000 [==============================] - 7s 125us/step - loss: 1.0080 - acc: 0.6609\n",
      "Epoch 11/20\n",
      "55000/55000 [==============================] - 7s 125us/step - loss: 0.8383 - acc: 0.7203\n",
      "Epoch 12/20\n",
      "55000/55000 [==============================] - 7s 126us/step - loss: 0.6807 - acc: 0.7766\n",
      "Epoch 13/20\n",
      "55000/55000 [==============================] - 7s 126us/step - loss: 0.5420 - acc: 0.8257\n",
      "Epoch 14/20\n",
      "55000/55000 [==============================] - 7s 124us/step - loss: 0.4158 - acc: 0.8724\n",
      "Epoch 15/20\n",
      "55000/55000 [==============================] - 7s 123us/step - loss: 0.3135 - acc: 0.9099\n",
      "Epoch 16/20\n",
      "55000/55000 [==============================] - 7s 124us/step - loss: 0.2238 - acc: 0.9431\n",
      "Epoch 17/20\n",
      "55000/55000 [==============================] - 7s 125us/step - loss: 0.1470 - acc: 0.9695\n",
      "Epoch 18/20\n",
      "55000/55000 [==============================] - 7s 127us/step - loss: 0.0869 - acc: 0.9893\n",
      "Epoch 19/20\n",
      "55000/55000 [==============================] - 7s 133us/step - loss: 0.0473 - acc: 0.9976\n",
      "Epoch 20/20\n",
      "55000/55000 [==============================] - 8s 137us/step - loss: 0.0285 - acc: 0.9996\n"
     ]
    },
    {
     "data": {
      "text/plain": [
       "<keras.callbacks.History at 0x7fb71003a278>"
      ]
     },
     "execution_count": 25,
     "metadata": {},
     "output_type": "execute_result"
    }
   ],
   "source": [
    "model.fit(x_train, y_train,\n",
    "          epochs= 20,\n",
    "          batch_size=20,\n",
    "          verbose = 1)"
   ]
  },
  {
   "cell_type": "code",
   "execution_count": 27,
   "metadata": {},
   "outputs": [
    {
     "name": "stdout",
     "output_type": "stream",
     "text": [
      "10000/10000 [==============================] - 1s 77us/step\n",
      "Testing Accuracy:  0.34140000205487014\n"
     ]
    }
   ],
   "source": [
    "score = model.evaluate(x_test, y_test, batch_size= 20)\n",
    "print(\"Testing Accuracy: \", score[1])"
   ]
  },
  {
   "cell_type": "code",
   "execution_count": 28,
   "metadata": {},
   "outputs": [
    {
     "data": {
      "text/plain": [
       "<matplotlib.image.AxesImage at 0x7fb79cec1cc0>"
      ]
     },
     "execution_count": 28,
     "metadata": {},
     "output_type": "execute_result"
    },
    {
     "data": {
      "image/png": "[encoded data removed]",
      "text/plain": [
       "<matplotlib.figure.Figure at 0x7fb7a80079b0>"
      ]
     },
     "metadata": {},
     "output_type": "display_data"
    }
   ],
   "source": [
    "data_path = 'mnist_shifted_train_data.tfrecords'  # address to save the hdf5 file\n",
    "gpu_options = tf.GPUOptions(allow_growth=True)\n",
    "with tf.Session(config=tf.ConfigProto(gpu_options=gpu_options)) as sess:\n",
    "    feature = {'train/image': tf.FixedLenFeature([], tf.string),\n",
    "               'train/label': tf.FixedLenFeature([], tf.int64)}\n",
    "   \n",
    "    # Create a list of filenames and pass it to a queue\n",
    "    filename_queue = tf.train.string_input_producer([data_path], num_epochs=1)\n",
    "    # Define a reader and read the next record\n",
    "    reader = tf.TFRecordReader()\n",
    "    _, serialized_example = reader.read(filename_queue)\n",
    "    # Decode the record read by the reader\n",
    "    features = tf.parse_single_example(serialized_example, features=feature)\n",
    "    # Convert the image data from string back to the numbers\n",
    "    image = tf.decode_raw(features['train/image'], tf.float32)\n",
    "    \n",
    "    # Cast label data into int32\n",
    "    label = tf.cast(features['train/label'], tf.int32)\n",
    "    # Reshape image data into the original shape\n",
    "    image = tf.reshape(image, (60,60))\n",
    "    \n",
    "    # Any preprocessing here ...\n",
    "    \n",
    "    # Creates batches by randomly shuffling tensors\n",
    "\n",
    "    train_images = []\n",
    "    train_labels = []\n",
    "    # Initialize all global and local variables\n",
    "    init_op = tf.group(tf.global_variables_initializer(), tf.local_variables_initializer())\n",
    "    sess.run(init_op)\n",
    "    # Create a coordinator and run all QueueRunner objects\n",
    "    coord = tf.train.Coordinator()\n",
    "    threads = tf.train.start_queue_runners(coord=coord)\n",
    "    for batch_index in range(55000):\n",
    "        img, lbl = sess.run([image, label])\n",
    "        train_images.append(img)\n",
    "        train_labels.append(lbl)\n",
    "    # Stop the threads\n",
    "    coord.request_stop()\n",
    "    \n",
    "    # Wait for threads to stop\n",
    "    coord.join(threads)\n",
    "    sess.close()\n",
    "\n",
    "plt.imshow(train_images[0])"
   ]
  },
  {
   "cell_type": "code",
   "execution_count": 29,
   "metadata": {},
   "outputs": [
    {
     "data": {
      "text/plain": [
       "<matplotlib.image.AxesImage at 0x7fb6b076b278>"
      ]
     },
     "execution_count": 29,
     "metadata": {},
     "output_type": "execute_result"
    },
    {
     "data": {
      "image/png": "[encoded data removed]",
      "text/plain": [
       "<matplotlib.figure.Figure at 0x7fb71005cd68>"
      ]
     },
     "metadata": {},
     "output_type": "display_data"
    }
   ],
   "source": [
    "data_path = 'mnist_shifted_test_data.tfrecords'  # address to save the hdf5 file\n",
    "gpu_options = tf.GPUOptions(allow_growth=True)\n",
    "with tf.Session(config=tf.ConfigProto(gpu_options=gpu_options)) as sess:\n",
    "    feature = {'test/image': tf.FixedLenFeature([], tf.string),\n",
    "               'test/label': tf.FixedLenFeature([], tf.int64)}\n",
    "   \n",
    "    # Create a list of filenames and pass it to a queue\n",
    "    filename_queue = tf.train.string_input_producer([data_path], num_epochs=1)\n",
    "    # Define a reader and read the next record\n",
    "    reader = tf.TFRecordReader()\n",
    "    _, serialized_example = reader.read(filename_queue)\n",
    "    # Decode the record read by the reader\n",
    "    features = tf.parse_single_example(serialized_example, features=feature)\n",
    "    # Convert the image data from string back to the numbers\n",
    "    image = tf.decode_raw(features['test/image'], tf.float32)\n",
    "    \n",
    "    # Cast label data into int32\n",
    "    label = tf.cast(features['test/label'], tf.int32)\n",
    "    # Reshape image data into the original shape\n",
    "    image = tf.reshape(image, (60,60))\n",
    "    \n",
    "    test_images = []\n",
    "    test_labels = []\n",
    "# Initialize all global and local variables\n",
    "    init_op = tf.group(tf.global_variables_initializer(), tf.local_variables_initializer())\n",
    "    sess.run(init_op)\n",
    "    # Create a coordinator and run all QueueRunner objects\n",
    "    coord = tf.train.Coordinator()\n",
    "    threads = tf.train.start_queue_runners(coord=coord)\n",
    "    for batch_index in range(10000):\n",
    "        img, lbl = sess.run([image, label])\n",
    "        test_images.append(img)\n",
    "        test_labels.append(lbl)\n",
    "    # Stop the threads\n",
    "    coord.request_stop()\n",
    "    \n",
    "    # Wait for threads to stop\n",
    "    coord.join(threads)\n",
    "    sess.close()\n",
    "\n",
    "\n",
    "\n",
    "\n",
    "\n",
    "plt.imshow(test_images[0])\n",
    "\n"
   ]
  },
  {
   "cell_type": "code",
   "execution_count": 30,
   "metadata": {},
   "outputs": [],
   "source": [
    "flat_train_images = []\n",
    "for i in range(55000):\n",
    "    flat_train_images.append(np.reshape(train_images[i], (3600,)))\n",
    "\n",
    "flat_test_images = []\n",
    "for i in range(10000):\n",
    "    flat_test_images.append(np.reshape(test_images[i], (3600,)))\n",
    "    \n",
    "\n",
    "\n",
    "onehot_train_labels = np.zeros((55000, 10))\n",
    "onehot_train_labels[np.arange(55000), train_labels] = 1\n",
    "\n",
    "\n",
    "onehot_test_labels = np.zeros((10000, 10))\n",
    "onehot_test_labels[np.arange(10000), test_labels] = 1\n",
    "\n",
    "\n",
    "onehot_train_labels.shape\n",
    "\n",
    "flat_train_images = np.asarray(flat_train_images)\n",
    "flat_test_images = np.asarray(flat_test_images)\n",
    "onehot_train_labels = np.asarray(onehot_train_labels)\n",
    "onehot_test_labels = np.asarray(onehot_test_labels)\n",
    "\n"
   ]
  },
  {
   "cell_type": "code",
   "execution_count": 31,
   "metadata": {},
   "outputs": [],
   "source": [
    "x_train = flat_train_images\n",
    "y_train = onehot_train_labels\n",
    "x_test = flat_test_images\n",
    "y_test = onehot_test_labels\n",
    "\n"
   ]
  },
  {
   "cell_type": "code",
   "execution_count": 32,
   "metadata": {},
   "outputs": [],
   "source": [
    "model = Sequential()\n",
    "# Dense(256) is a fully-connected layer with 64 hidden units.\n",
    "# in the first layer, you must specify the expected input data shape:\n",
    "# here, 20-dimensional vectors.\n",
    "model.add(Dense(256, activation='relu', input_dim= 3600))\n",
    "#model.add(Dropout(0.5))\n",
    "model.add(Dense(256, activation='relu'))\n",
    "#model.add(Dropout(0.5))\n",
    "model.add(Dense(10, activation='softmax'))\n",
    "#decay=1e-6\n",
    "sgd = SGD(lr=0.001, momentum=0.9, nesterov=True)\n",
    "model.compile(loss='categorical_crossentropy', optimizer=sgd, metrics=['accuracy'])\n"
   ]
  },
  {
   "cell_type": "code",
   "execution_count": 33,
   "metadata": {},
   "outputs": [
    {
     "name": "stdout",
     "output_type": "stream",
     "text": [
      "Epoch 1/30\n",
      "55000/55000 [==============================] - 7s 131us/step - loss: 2.2641 - acc: 0.1622\n",
      "Epoch 2/30\n",
      "55000/55000 [==============================] - 7s 134us/step - loss: 2.0965 - acc: 0.2476\n",
      "Epoch 3/30\n",
      "55000/55000 [==============================] - 7s 131us/step - loss: 1.9540 - acc: 0.3033\n",
      "Epoch 4/30\n",
      "55000/55000 [==============================] - 7s 126us/step - loss: 1.7715 - acc: 0.3880\n",
      "Epoch 5/30\n",
      "55000/55000 [==============================] - 7s 124us/step - loss: 1.5015 - acc: 0.4941\n",
      "Epoch 6/30\n",
      "55000/55000 [==============================] - 7s 128us/step - loss: 1.2292 - acc: 0.5881\n",
      "Epoch 7/30\n",
      "55000/55000 [==============================] - 7s 124us/step - loss: 1.0159 - acc: 0.6626\n",
      "Epoch 8/30\n",
      "55000/55000 [==============================] - 7s 130us/step - loss: 0.8577 - acc: 0.7135\n",
      "Epoch 9/30\n",
      "55000/55000 [==============================] - 7s 127us/step - loss: 0.7280 - acc: 0.7615\n",
      "Epoch 10/30\n",
      "55000/55000 [==============================] - 7s 128us/step - loss: 0.6205 - acc: 0.7989\n",
      "Epoch 11/30\n",
      "55000/55000 [==============================] - 7s 126us/step - loss: 0.5236 - acc: 0.8330\n",
      "Epoch 12/30\n",
      "55000/55000 [==============================] - 7s 131us/step - loss: 0.4403 - acc: 0.8607\n",
      "Epoch 13/30\n",
      "55000/55000 [==============================] - 7s 133us/step - loss: 0.3666 - acc: 0.8896\n",
      "Epoch 14/30\n",
      "55000/55000 [==============================] - 7s 134us/step - loss: 0.2998 - acc: 0.9123\n",
      "Epoch 15/30\n",
      "55000/55000 [==============================] - 7s 130us/step - loss: 0.2433 - acc: 0.9323\n",
      "Epoch 16/30\n",
      "55000/55000 [==============================] - 7s 129us/step - loss: 0.1925 - acc: 0.9510\n",
      "Epoch 17/30\n",
      "55000/55000 [==============================] - 7s 129us/step - loss: 0.1478 - acc: 0.9663\n",
      "Epoch 18/30\n",
      "55000/55000 [==============================] - 7s 126us/step - loss: 0.1123 - acc: 0.9787\n",
      "Epoch 19/30\n",
      "55000/55000 [==============================] - 7s 128us/step - loss: 0.0812 - acc: 0.9882\n",
      "Epoch 20/30\n",
      "55000/55000 [==============================] - 7s 125us/step - loss: 0.0590 - acc: 0.9942\n",
      "Epoch 21/30\n",
      "55000/55000 [==============================] - 7s 123us/step - loss: 0.0426 - acc: 0.9979\n",
      "Epoch 22/30\n",
      "55000/55000 [==============================] - 7s 124us/step - loss: 0.0325 - acc: 0.9990\n",
      "Epoch 23/30\n",
      "55000/55000 [==============================] - 7s 128us/step - loss: 0.0258 - acc: 0.9994\n",
      "Epoch 24/30\n",
      "55000/55000 [==============================] - 7s 132us/step - loss: 0.0212 - acc: 0.9997\n",
      "Epoch 25/30\n",
      "55000/55000 [==============================] - 7s 131us/step - loss: 0.0180 - acc: 0.9998\n",
      "Epoch 26/30\n",
      "55000/55000 [==============================] - 7s 133us/step - loss: 0.0158 - acc: 0.9999\n",
      "Epoch 27/30\n",
      "55000/55000 [==============================] - 7s 133us/step - loss: 0.0141 - acc: 0.9999\n",
      "Epoch 28/30\n",
      "55000/55000 [==============================] - 7s 134us/step - loss: 0.0127 - acc: 0.9999\n",
      "Epoch 29/30\n",
      "55000/55000 [==============================] - 7s 132us/step - loss: 0.0115 - acc: 0.9999\n",
      "Epoch 30/30\n",
      "55000/55000 [==============================] - 7s 132us/step - loss: 0.0106 - acc: 0.9999\n"
     ]
    },
    {
     "data": {
      "text/plain": [
       "<keras.callbacks.History at 0x7fb7a7ff00f0>"
      ]
     },
     "execution_count": 33,
     "metadata": {},
     "output_type": "execute_result"
    }
   ],
   "source": [
    "model.fit(x_train, y_train, epochs= 30, batch_size=20, verbose = 1)"
   ]
  },
  {
   "cell_type": "code",
   "execution_count": 34,
   "metadata": {},
   "outputs": [
    {
     "name": "stdout",
     "output_type": "stream",
     "text": [
      "10000/10000 [==============================] - 1s 64us/step\n",
      "Testing Accuracy:  0.7016000008583069\n"
     ]
    }
   ],
   "source": [
    "\n",
    "score = model.evaluate(x_test, y_test, batch_size= 20)\n",
    "print(\"Testing Accuracy: \", score[1])"
   ]
  },
  {
   "cell_type": "code",
   "execution_count": null,
   "metadata": {},
   "outputs": [],
   "source": []
  }
 ],
 "metadata": {
  "kernelspec": {
   "display_name": "Python 3",
   "language": "python",
   "name": "python3"
  },
  "language_info": {
   "codemirror_mode": {
    "name": "ipython",
    "version": 3
   },
   "file_extension": ".py",
   "mimetype": "text/x-python",
   "name": "python",
   "nbconvert_exporter": "python",
   "pygments_lexer": "ipython3",
   "version": "3.6.4"
  }
 },
 "nbformat": 4,
 "nbformat_minor": 2
}
